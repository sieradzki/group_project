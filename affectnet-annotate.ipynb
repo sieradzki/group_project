{
 "cells": [
  {
   "cell_type": "code",
   "execution_count": 72,
   "metadata": {
    "execution": {
     "iopub.execute_input": "2023-05-26T09:53:45.861922Z",
     "iopub.status.busy": "2023-05-26T09:53:45.861634Z",
     "iopub.status.idle": "2023-05-26T09:53:49.488911Z",
     "shell.execute_reply": "2023-05-26T09:53:49.487809Z",
     "shell.execute_reply.started": "2023-05-26T09:53:45.861900Z"
    }
   },
   "outputs": [],
   "source": [
    "import os\n",
    "import torch\n",
    "import matplotlib.pyplot as plt\n",
    "import pandas as pd\n",
    "import numpy as np\n",
    "from PIL import Image"
   ]
  },
  {
   "cell_type": "code",
   "execution_count": 73,
   "metadata": {
    "execution": {
     "iopub.execute_input": "2023-05-26T10:05:41.409301Z",
     "iopub.status.busy": "2023-05-26T10:05:41.408934Z",
     "iopub.status.idle": "2023-05-26T10:05:41.435849Z",
     "shell.execute_reply": "2023-05-26T10:05:41.434701Z",
     "shell.execute_reply.started": "2023-05-26T10:05:41.409274Z"
    }
   },
   "outputs": [],
   "source": [
    "import torch\n",
    "import torch.nn as nn\n",
    "import torch.optim as optim\n",
    "import torch.nn.functional as F\n",
    "\n",
    "class DirectionModel(nn.Module):\n",
    "    def __init__(self, n_features, n_classes):\n",
    "        super(DirectionModel, self).__init__()\n",
    "        self.fc1 = nn.Linear(n_features, 512)\n",
    "        self.bn1 = nn.BatchNorm1d(512)\n",
    "        self.dropout1 = nn.Dropout(0.5)\n",
    "        \n",
    "        self.fc2 = nn.Linear(512, 128)\n",
    "        self.bn2 = nn.BatchNorm1d(128)\n",
    "        self.dropout2 = nn.Dropout(0.5)\n",
    "        \n",
    "        self.fc3 = nn.Linear(128, 64)\n",
    "        self.bn3 = nn.BatchNorm1d(64)\n",
    "        self.dropout3 = nn.Dropout(0.5)\n",
    "        \n",
    "        self.fc4 = nn.Linear(64, n_classes)\n",
    "        \n",
    "    def forward(self, x):\n",
    "        x = F.relu(self.fc1(x))\n",
    "        x = self.bn1(x)\n",
    "        x = self.dropout1(x)\n",
    "        \n",
    "        x = F.relu(self.fc2(x))\n",
    "        x = self.bn2(x)\n",
    "        x = self.dropout2(x)\n",
    "        \n",
    "        x = F.relu(self.fc3(x))\n",
    "        x = self.bn3(x)\n",
    "        x = self.dropout3(x)\n",
    "        \n",
    "        x = self.fc4(x)\n",
    "        return x\n",
    "model = DirectionModel(3, 5)"
   ]
  },
  {
   "cell_type": "code",
   "execution_count": 74,
   "metadata": {
    "execution": {
     "iopub.execute_input": "2023-05-26T10:10:57.215700Z",
     "iopub.status.busy": "2023-05-26T10:10:57.215327Z",
     "iopub.status.idle": "2023-05-26T10:10:57.221920Z",
     "shell.execute_reply": "2023-05-26T10:10:57.220959Z",
     "shell.execute_reply.started": "2023-05-26T10:10:57.215672Z"
    }
   },
   "outputs": [
    {
     "data": {
      "text/plain": [
       "'cpu'"
      ]
     },
     "execution_count": 74,
     "metadata": {},
     "output_type": "execute_result"
    }
   ],
   "source": [
    "# device = torch.device(\"cuda\" if torch.cuda.is_available() else \"cpu\")\n",
    "device = \"cpu\"\n",
    "device"
   ]
  },
  {
   "cell_type": "code",
   "execution_count": 75,
   "metadata": {
    "execution": {
     "iopub.execute_input": "2023-05-26T10:11:03.483485Z",
     "iopub.status.busy": "2023-05-26T10:11:03.483132Z",
     "iopub.status.idle": "2023-05-26T10:11:03.501964Z",
     "shell.execute_reply": "2023-05-26T10:11:03.500033Z",
     "shell.execute_reply.started": "2023-05-26T10:11:03.483459Z"
    }
   },
   "outputs": [
    {
     "data": {
      "text/plain": [
       "DirectionModel(\n",
       "  (fc1): Linear(in_features=3, out_features=512, bias=True)\n",
       "  (bn1): BatchNorm1d(512, eps=1e-05, momentum=0.1, affine=True, track_running_stats=True)\n",
       "  (dropout1): Dropout(p=0.5, inplace=False)\n",
       "  (fc2): Linear(in_features=512, out_features=128, bias=True)\n",
       "  (bn2): BatchNorm1d(128, eps=1e-05, momentum=0.1, affine=True, track_running_stats=True)\n",
       "  (dropout2): Dropout(p=0.5, inplace=False)\n",
       "  (fc3): Linear(in_features=128, out_features=64, bias=True)\n",
       "  (bn3): BatchNorm1d(64, eps=1e-05, momentum=0.1, affine=True, track_running_stats=True)\n",
       "  (dropout3): Dropout(p=0.5, inplace=False)\n",
       "  (fc4): Linear(in_features=64, out_features=5, bias=True)\n",
       ")"
      ]
     },
     "execution_count": 75,
     "metadata": {},
     "output_type": "execute_result"
    }
   ],
   "source": [
    "model_path = \"direction_model.pt\"\n",
    "model = torch.load(model_path).to(device)\n",
    "model.eval()"
   ]
  },
  {
   "cell_type": "code",
   "execution_count": 88,
   "metadata": {},
   "outputs": [
    {
     "data": {
      "text/html": [
       "<div>\n",
       "<style scoped>\n",
       "    .dataframe tbody tr th:only-of-type {\n",
       "        vertical-align: middle;\n",
       "    }\n",
       "\n",
       "    .dataframe tbody tr th {\n",
       "        vertical-align: top;\n",
       "    }\n",
       "\n",
       "    .dataframe thead th {\n",
       "        text-align: right;\n",
       "    }\n",
       "</style>\n",
       "<table border=\"1\" class=\"dataframe\">\n",
       "  <thead>\n",
       "    <tr style=\"text-align: right;\">\n",
       "      <th></th>\n",
       "      <th>class</th>\n",
       "      <th>filename</th>\n",
       "      <th>pitch</th>\n",
       "      <th>yaw</th>\n",
       "      <th>roll</th>\n",
       "    </tr>\n",
       "  </thead>\n",
       "  <tbody>\n",
       "    <tr>\n",
       "      <th>0</th>\n",
       "      <td>1</td>\n",
       "      <td>image0012261.jpg</td>\n",
       "      <td>-0.214550</td>\n",
       "      <td>0.152226</td>\n",
       "      <td>0.103692</td>\n",
       "    </tr>\n",
       "    <tr>\n",
       "      <th>1</th>\n",
       "      <td>1</td>\n",
       "      <td>image0003195.jpg</td>\n",
       "      <td>0.207676</td>\n",
       "      <td>-0.255355</td>\n",
       "      <td>0.036119</td>\n",
       "    </tr>\n",
       "    <tr>\n",
       "      <th>2</th>\n",
       "      <td>1</td>\n",
       "      <td>image0010070.jpg</td>\n",
       "      <td>-0.204092</td>\n",
       "      <td>0.133176</td>\n",
       "      <td>-0.009492</td>\n",
       "    </tr>\n",
       "    <tr>\n",
       "      <th>3</th>\n",
       "      <td>1</td>\n",
       "      <td>image0017195.jpg</td>\n",
       "      <td>0.009019</td>\n",
       "      <td>0.060406</td>\n",
       "      <td>-0.076559</td>\n",
       "    </tr>\n",
       "    <tr>\n",
       "      <th>4</th>\n",
       "      <td>1</td>\n",
       "      <td>image0014177.jpg</td>\n",
       "      <td>-0.001475</td>\n",
       "      <td>0.212992</td>\n",
       "      <td>0.076477</td>\n",
       "    </tr>\n",
       "  </tbody>\n",
       "</table>\n",
       "</div>"
      ],
      "text/plain": [
       "   class          filename     pitch       yaw      roll\n",
       "0      1  image0012261.jpg -0.214550  0.152226  0.103692\n",
       "1      1  image0003195.jpg  0.207676 -0.255355  0.036119\n",
       "2      1  image0010070.jpg -0.204092  0.133176 -0.009492\n",
       "3      1  image0017195.jpg  0.009019  0.060406 -0.076559\n",
       "4      1  image0014177.jpg -0.001475  0.212992  0.076477"
      ]
     },
     "execution_count": 88,
     "metadata": {},
     "output_type": "execute_result"
    }
   ],
   "source": [
    "train_df = pd.read_csv(\"affectnet_train.csv\", names=['class', 'filename', 'pitch', 'yaw', 'roll'])\n",
    "train_df.head()"
   ]
  },
  {
   "cell_type": "code",
   "execution_count": 89,
   "metadata": {},
   "outputs": [
    {
     "data": {
      "text/html": [
       "<div>\n",
       "<style scoped>\n",
       "    .dataframe tbody tr th:only-of-type {\n",
       "        vertical-align: middle;\n",
       "    }\n",
       "\n",
       "    .dataframe tbody tr th {\n",
       "        vertical-align: top;\n",
       "    }\n",
       "\n",
       "    .dataframe thead th {\n",
       "        text-align: right;\n",
       "    }\n",
       "</style>\n",
       "<table border=\"1\" class=\"dataframe\">\n",
       "  <thead>\n",
       "    <tr style=\"text-align: right;\">\n",
       "      <th></th>\n",
       "      <th>pitch</th>\n",
       "      <th>yaw</th>\n",
       "      <th>roll</th>\n",
       "    </tr>\n",
       "  </thead>\n",
       "  <tbody>\n",
       "    <tr>\n",
       "      <th>0</th>\n",
       "      <td>-0.214550</td>\n",
       "      <td>0.152226</td>\n",
       "      <td>0.103692</td>\n",
       "    </tr>\n",
       "    <tr>\n",
       "      <th>1</th>\n",
       "      <td>0.207676</td>\n",
       "      <td>-0.255355</td>\n",
       "      <td>0.036119</td>\n",
       "    </tr>\n",
       "    <tr>\n",
       "      <th>2</th>\n",
       "      <td>-0.204092</td>\n",
       "      <td>0.133176</td>\n",
       "      <td>-0.009492</td>\n",
       "    </tr>\n",
       "    <tr>\n",
       "      <th>3</th>\n",
       "      <td>0.009019</td>\n",
       "      <td>0.060406</td>\n",
       "      <td>-0.076559</td>\n",
       "    </tr>\n",
       "    <tr>\n",
       "      <th>4</th>\n",
       "      <td>-0.001475</td>\n",
       "      <td>0.212992</td>\n",
       "      <td>0.076477</td>\n",
       "    </tr>\n",
       "  </tbody>\n",
       "</table>\n",
       "</div>"
      ],
      "text/plain": [
       "      pitch       yaw      roll\n",
       "0 -0.214550  0.152226  0.103692\n",
       "1  0.207676 -0.255355  0.036119\n",
       "2 -0.204092  0.133176 -0.009492\n",
       "3  0.009019  0.060406 -0.076559\n",
       "4 -0.001475  0.212992  0.076477"
      ]
     },
     "execution_count": 89,
     "metadata": {},
     "output_type": "execute_result"
    }
   ],
   "source": [
    "train_X = train_df.iloc[:, 2:]\n",
    "train_X.head()"
   ]
  },
  {
   "cell_type": "code",
   "execution_count": 90,
   "metadata": {},
   "outputs": [],
   "source": [
    "train_X = torch.tensor(train_X.values, dtype=torch.float32).to(device)"
   ]
  },
  {
   "cell_type": "code",
   "execution_count": 91,
   "metadata": {},
   "outputs": [],
   "source": [
    "train_dataloader = DataLoader(train_X, shuffle=False)"
   ]
  },
  {
   "cell_type": "markdown",
   "metadata": {},
   "source": [
    "Can it be done without without all the steps? Maybe..."
   ]
  },
  {
   "cell_type": "code",
   "execution_count": 92,
   "metadata": {
    "execution": {
     "iopub.execute_input": "2023-05-26T10:12:01.739550Z",
     "iopub.status.busy": "2023-05-26T10:12:01.739195Z",
     "iopub.status.idle": "2023-05-26T10:12:01.745741Z",
     "shell.execute_reply": "2023-05-26T10:12:01.744325Z",
     "shell.execute_reply.started": "2023-05-26T10:12:01.739525Z"
    }
   },
   "outputs": [],
   "source": [
    "model.eval()\n",
    "preds = []\n",
    "with torch.no_grad():\n",
    "        for i, inputs in enumerate(train_dataloader):\n",
    "            predicted = torch.argmax(model(inputs))\n",
    "            preds.append(predicted.item())"
   ]
  },
  {
   "cell_type": "code",
   "execution_count": 93,
   "metadata": {},
   "outputs": [],
   "source": [
    "train_df['direction'] = preds"
   ]
  },
  {
   "cell_type": "code",
   "execution_count": 94,
   "metadata": {},
   "outputs": [
    {
     "data": {
      "text/html": [
       "<div>\n",
       "<style scoped>\n",
       "    .dataframe tbody tr th:only-of-type {\n",
       "        vertical-align: middle;\n",
       "    }\n",
       "\n",
       "    .dataframe tbody tr th {\n",
       "        vertical-align: top;\n",
       "    }\n",
       "\n",
       "    .dataframe thead th {\n",
       "        text-align: right;\n",
       "    }\n",
       "</style>\n",
       "<table border=\"1\" class=\"dataframe\">\n",
       "  <thead>\n",
       "    <tr style=\"text-align: right;\">\n",
       "      <th></th>\n",
       "      <th>class</th>\n",
       "      <th>filename</th>\n",
       "      <th>pitch</th>\n",
       "      <th>yaw</th>\n",
       "      <th>roll</th>\n",
       "      <th>direction</th>\n",
       "    </tr>\n",
       "  </thead>\n",
       "  <tbody>\n",
       "    <tr>\n",
       "      <th>0</th>\n",
       "      <td>1</td>\n",
       "      <td>image0012261.jpg</td>\n",
       "      <td>-0.214550</td>\n",
       "      <td>0.152226</td>\n",
       "      <td>0.103692</td>\n",
       "      <td>2</td>\n",
       "    </tr>\n",
       "    <tr>\n",
       "      <th>1</th>\n",
       "      <td>1</td>\n",
       "      <td>image0003195.jpg</td>\n",
       "      <td>0.207676</td>\n",
       "      <td>-0.255355</td>\n",
       "      <td>0.036119</td>\n",
       "      <td>2</td>\n",
       "    </tr>\n",
       "    <tr>\n",
       "      <th>2</th>\n",
       "      <td>1</td>\n",
       "      <td>image0010070.jpg</td>\n",
       "      <td>-0.204092</td>\n",
       "      <td>0.133176</td>\n",
       "      <td>-0.009492</td>\n",
       "      <td>0</td>\n",
       "    </tr>\n",
       "    <tr>\n",
       "      <th>3</th>\n",
       "      <td>1</td>\n",
       "      <td>image0017195.jpg</td>\n",
       "      <td>0.009019</td>\n",
       "      <td>0.060406</td>\n",
       "      <td>-0.076559</td>\n",
       "      <td>1</td>\n",
       "    </tr>\n",
       "    <tr>\n",
       "      <th>4</th>\n",
       "      <td>1</td>\n",
       "      <td>image0014177.jpg</td>\n",
       "      <td>-0.001475</td>\n",
       "      <td>0.212992</td>\n",
       "      <td>0.076477</td>\n",
       "      <td>2</td>\n",
       "    </tr>\n",
       "  </tbody>\n",
       "</table>\n",
       "</div>"
      ],
      "text/plain": [
       "   class          filename     pitch       yaw      roll  direction\n",
       "0      1  image0012261.jpg -0.214550  0.152226  0.103692          2\n",
       "1      1  image0003195.jpg  0.207676 -0.255355  0.036119          2\n",
       "2      1  image0010070.jpg -0.204092  0.133176 -0.009492          0\n",
       "3      1  image0017195.jpg  0.009019  0.060406 -0.076559          1\n",
       "4      1  image0014177.jpg -0.001475  0.212992  0.076477          2"
      ]
     },
     "execution_count": 94,
     "metadata": {},
     "output_type": "execute_result"
    }
   ],
   "source": [
    "train_df.head()"
   ]
  },
  {
   "cell_type": "code",
   "execution_count": 95,
   "metadata": {},
   "outputs": [],
   "source": [
    "train_df.to_csv(\"affectnet_train_model_direction.csv\", index=False)"
   ]
  },
  {
   "cell_type": "code",
   "execution_count": 96,
   "metadata": {},
   "outputs": [
    {
     "data": {
      "text/html": [
       "<div>\n",
       "<style scoped>\n",
       "    .dataframe tbody tr th:only-of-type {\n",
       "        vertical-align: middle;\n",
       "    }\n",
       "\n",
       "    .dataframe tbody tr th {\n",
       "        vertical-align: top;\n",
       "    }\n",
       "\n",
       "    .dataframe thead th {\n",
       "        text-align: right;\n",
       "    }\n",
       "</style>\n",
       "<table border=\"1\" class=\"dataframe\">\n",
       "  <thead>\n",
       "    <tr style=\"text-align: right;\">\n",
       "      <th></th>\n",
       "      <th>class</th>\n",
       "      <th>filename</th>\n",
       "      <th>pitch</th>\n",
       "      <th>yaw</th>\n",
       "      <th>roll</th>\n",
       "    </tr>\n",
       "  </thead>\n",
       "  <tbody>\n",
       "    <tr>\n",
       "      <th>0</th>\n",
       "      <td>1</td>\n",
       "      <td>image0004172.jpg</td>\n",
       "      <td>-0.101674</td>\n",
       "      <td>0.260372</td>\n",
       "      <td>0.026084</td>\n",
       "    </tr>\n",
       "    <tr>\n",
       "      <th>1</th>\n",
       "      <td>1</td>\n",
       "      <td>image0002985.jpg</td>\n",
       "      <td>0.002530</td>\n",
       "      <td>0.100325</td>\n",
       "      <td>0.034182</td>\n",
       "    </tr>\n",
       "    <tr>\n",
       "      <th>2</th>\n",
       "      <td>1</td>\n",
       "      <td>image0002507.jpg</td>\n",
       "      <td>0.126349</td>\n",
       "      <td>0.085475</td>\n",
       "      <td>-0.175663</td>\n",
       "    </tr>\n",
       "    <tr>\n",
       "      <th>3</th>\n",
       "      <td>1</td>\n",
       "      <td>image0000594.jpg</td>\n",
       "      <td>0.196749</td>\n",
       "      <td>0.049497</td>\n",
       "      <td>0.006675</td>\n",
       "    </tr>\n",
       "    <tr>\n",
       "      <th>4</th>\n",
       "      <td>1</td>\n",
       "      <td>image0003238.jpg</td>\n",
       "      <td>-0.083720</td>\n",
       "      <td>0.230250</td>\n",
       "      <td>0.083975</td>\n",
       "    </tr>\n",
       "  </tbody>\n",
       "</table>\n",
       "</div>"
      ],
      "text/plain": [
       "   class          filename     pitch       yaw      roll\n",
       "0      1  image0004172.jpg -0.101674  0.260372  0.026084\n",
       "1      1  image0002985.jpg  0.002530  0.100325  0.034182\n",
       "2      1  image0002507.jpg  0.126349  0.085475 -0.175663\n",
       "3      1  image0000594.jpg  0.196749  0.049497  0.006675\n",
       "4      1  image0003238.jpg -0.083720  0.230250  0.083975"
      ]
     },
     "execution_count": 96,
     "metadata": {},
     "output_type": "execute_result"
    }
   ],
   "source": [
    "val_df = pd.read_csv(\"affectnet_val.csv\", names=['class', 'filename', 'pitch', 'yaw', 'roll'])\n",
    "val_df.head()"
   ]
  },
  {
   "cell_type": "code",
   "execution_count": 97,
   "metadata": {},
   "outputs": [
    {
     "data": {
      "text/html": [
       "<div>\n",
       "<style scoped>\n",
       "    .dataframe tbody tr th:only-of-type {\n",
       "        vertical-align: middle;\n",
       "    }\n",
       "\n",
       "    .dataframe tbody tr th {\n",
       "        vertical-align: top;\n",
       "    }\n",
       "\n",
       "    .dataframe thead th {\n",
       "        text-align: right;\n",
       "    }\n",
       "</style>\n",
       "<table border=\"1\" class=\"dataframe\">\n",
       "  <thead>\n",
       "    <tr style=\"text-align: right;\">\n",
       "      <th></th>\n",
       "      <th>pitch</th>\n",
       "      <th>yaw</th>\n",
       "      <th>roll</th>\n",
       "    </tr>\n",
       "  </thead>\n",
       "  <tbody>\n",
       "    <tr>\n",
       "      <th>0</th>\n",
       "      <td>-0.101674</td>\n",
       "      <td>0.260372</td>\n",
       "      <td>0.026084</td>\n",
       "    </tr>\n",
       "    <tr>\n",
       "      <th>1</th>\n",
       "      <td>0.002530</td>\n",
       "      <td>0.100325</td>\n",
       "      <td>0.034182</td>\n",
       "    </tr>\n",
       "    <tr>\n",
       "      <th>2</th>\n",
       "      <td>0.126349</td>\n",
       "      <td>0.085475</td>\n",
       "      <td>-0.175663</td>\n",
       "    </tr>\n",
       "    <tr>\n",
       "      <th>3</th>\n",
       "      <td>0.196749</td>\n",
       "      <td>0.049497</td>\n",
       "      <td>0.006675</td>\n",
       "    </tr>\n",
       "    <tr>\n",
       "      <th>4</th>\n",
       "      <td>-0.083720</td>\n",
       "      <td>0.230250</td>\n",
       "      <td>0.083975</td>\n",
       "    </tr>\n",
       "  </tbody>\n",
       "</table>\n",
       "</div>"
      ],
      "text/plain": [
       "      pitch       yaw      roll\n",
       "0 -0.101674  0.260372  0.026084\n",
       "1  0.002530  0.100325  0.034182\n",
       "2  0.126349  0.085475 -0.175663\n",
       "3  0.196749  0.049497  0.006675\n",
       "4 -0.083720  0.230250  0.083975"
      ]
     },
     "execution_count": 97,
     "metadata": {},
     "output_type": "execute_result"
    }
   ],
   "source": [
    "val_X = val_df.iloc[:, 2:]\n",
    "val_X.head()"
   ]
  },
  {
   "cell_type": "code",
   "execution_count": 98,
   "metadata": {},
   "outputs": [],
   "source": [
    "val_X = torch.tensor(val_X.values, dtype=torch.float32).to(device)"
   ]
  },
  {
   "cell_type": "code",
   "execution_count": 101,
   "metadata": {},
   "outputs": [],
   "source": [
    "val_dataloader = DataLoader(val_X, shuffle=False)"
   ]
  },
  {
   "cell_type": "code",
   "execution_count": 102,
   "metadata": {},
   "outputs": [],
   "source": [
    "model.eval()\n",
    "preds = []\n",
    "with torch.no_grad():\n",
    "        for i, inputs in enumerate(val_dataloader):\n",
    "            predicted = torch.argmax(model(inputs))\n",
    "            preds.append(predicted.item())"
   ]
  },
  {
   "cell_type": "code",
   "execution_count": 103,
   "metadata": {},
   "outputs": [],
   "source": [
    "val_df['direction'] = preds"
   ]
  },
  {
   "cell_type": "code",
   "execution_count": 104,
   "metadata": {},
   "outputs": [
    {
     "data": {
      "text/html": [
       "<div>\n",
       "<style scoped>\n",
       "    .dataframe tbody tr th:only-of-type {\n",
       "        vertical-align: middle;\n",
       "    }\n",
       "\n",
       "    .dataframe tbody tr th {\n",
       "        vertical-align: top;\n",
       "    }\n",
       "\n",
       "    .dataframe thead th {\n",
       "        text-align: right;\n",
       "    }\n",
       "</style>\n",
       "<table border=\"1\" class=\"dataframe\">\n",
       "  <thead>\n",
       "    <tr style=\"text-align: right;\">\n",
       "      <th></th>\n",
       "      <th>class</th>\n",
       "      <th>filename</th>\n",
       "      <th>pitch</th>\n",
       "      <th>yaw</th>\n",
       "      <th>roll</th>\n",
       "      <th>direction</th>\n",
       "    </tr>\n",
       "  </thead>\n",
       "  <tbody>\n",
       "    <tr>\n",
       "      <th>0</th>\n",
       "      <td>1</td>\n",
       "      <td>image0004172.jpg</td>\n",
       "      <td>-0.101674</td>\n",
       "      <td>0.260372</td>\n",
       "      <td>0.026084</td>\n",
       "      <td>2</td>\n",
       "    </tr>\n",
       "    <tr>\n",
       "      <th>1</th>\n",
       "      <td>1</td>\n",
       "      <td>image0002985.jpg</td>\n",
       "      <td>0.002530</td>\n",
       "      <td>0.100325</td>\n",
       "      <td>0.034182</td>\n",
       "      <td>0</td>\n",
       "    </tr>\n",
       "    <tr>\n",
       "      <th>2</th>\n",
       "      <td>1</td>\n",
       "      <td>image0002507.jpg</td>\n",
       "      <td>0.126349</td>\n",
       "      <td>0.085475</td>\n",
       "      <td>-0.175663</td>\n",
       "      <td>1</td>\n",
       "    </tr>\n",
       "    <tr>\n",
       "      <th>3</th>\n",
       "      <td>1</td>\n",
       "      <td>image0000594.jpg</td>\n",
       "      <td>0.196749</td>\n",
       "      <td>0.049497</td>\n",
       "      <td>0.006675</td>\n",
       "      <td>1</td>\n",
       "    </tr>\n",
       "    <tr>\n",
       "      <th>4</th>\n",
       "      <td>1</td>\n",
       "      <td>image0003238.jpg</td>\n",
       "      <td>-0.083720</td>\n",
       "      <td>0.230250</td>\n",
       "      <td>0.083975</td>\n",
       "      <td>2</td>\n",
       "    </tr>\n",
       "  </tbody>\n",
       "</table>\n",
       "</div>"
      ],
      "text/plain": [
       "   class          filename     pitch       yaw      roll  direction\n",
       "0      1  image0004172.jpg -0.101674  0.260372  0.026084          2\n",
       "1      1  image0002985.jpg  0.002530  0.100325  0.034182          0\n",
       "2      1  image0002507.jpg  0.126349  0.085475 -0.175663          1\n",
       "3      1  image0000594.jpg  0.196749  0.049497  0.006675          1\n",
       "4      1  image0003238.jpg -0.083720  0.230250  0.083975          2"
      ]
     },
     "execution_count": 104,
     "metadata": {},
     "output_type": "execute_result"
    }
   ],
   "source": [
    "val_df.head()"
   ]
  },
  {
   "cell_type": "code",
   "execution_count": 105,
   "metadata": {},
   "outputs": [],
   "source": [
    "val_df.to_csv(\"affectnet_val_model_direction.csv\", index=False)"
   ]
  },
  {
   "cell_type": "code",
   "execution_count": null,
   "metadata": {},
   "outputs": [],
   "source": []
  }
 ],
 "metadata": {
  "kernelspec": {
   "display_name": "Python 3 (ipykernel)",
   "language": "python",
   "name": "python3"
  },
  "language_info": {
   "codemirror_mode": {
    "name": "ipython",
    "version": 3
   },
   "file_extension": ".py",
   "mimetype": "text/x-python",
   "name": "python",
   "nbconvert_exporter": "python",
   "pygments_lexer": "ipython3",
   "version": "3.11.3"
  }
 },
 "nbformat": 4,
 "nbformat_minor": 4
}
